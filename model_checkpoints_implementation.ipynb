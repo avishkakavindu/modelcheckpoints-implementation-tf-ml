{
 "cells": [
  {
   "cell_type": "code",
   "execution_count": 1,
   "metadata": {},
   "outputs": [],
   "source": [
    "# Checkpoint the weights when validation accuracy improves\n",
    "from keras.models import Sequential, load_model\n",
    "from keras.layers import Dense\n",
    "from keras.callbacks import ModelCheckpoint\n",
    "import matplotlib.pyplot as plt\n",
    "import numpy\n",
    "import tensorflow as tf"
   ]
  },
  {
   "cell_type": "code",
   "execution_count": 2,
   "metadata": {},
   "outputs": [],
   "source": [
    "seed = 20\n",
    "numpy.random.seed(seed)\n",
    "# load pima indians dataset\n",
    "dataset = numpy.loadtxt(\"dataset.csv\", delimiter=\",\")"
   ]
  },
  {
   "cell_type": "code",
   "execution_count": 3,
   "metadata": {},
   "outputs": [],
   "source": [
    "X = dataset[:,0:8]\n",
    "Y = dataset[:,8]"
   ]
  },
  {
   "cell_type": "code",
   "execution_count": 4,
   "metadata": {},
   "outputs": [],
   "source": [
    "def create_model():\n",
    "    # create model\n",
    "    model = Sequential()\n",
    "    model.add(Dense(12, input_dim=8, activation='relu'))\n",
    "    model.add(Dense(8, activation='relu'))\n",
    "    model.add(Dense(1, activation='sigmoid'))\n",
    "    \n",
    "    # Compile model\n",
    "    model.compile(loss='binary_crossentropy', optimizer='adam', metrics=['accuracy'])\n",
    "    return model"
   ]
  },
  {
   "cell_type": "code",
   "execution_count": 5,
   "metadata": {},
   "outputs": [],
   "source": [
    "# checkpoint\n",
    "import os\n",
    "filepath=\"./checkpoints/\"\n",
    "checkpoint_prefix = os.path.join(filepath, \"cp-epoch-{epoch}.ckpt\")"
   ]
  },
  {
   "cell_type": "code",
   "execution_count": 6,
   "metadata": {},
   "outputs": [],
   "source": [
    "from tensorflow.keras.callbacks import ModelCheckpoint, CSVLogger\n",
    "\n",
    "checkpoint = ModelCheckpoint(\n",
    "    checkpoint_prefix,\n",
    "    monitor='val_accuracy',\n",
    "    verbose=1,\n",
    "    save_best_only=True,\n",
    "    save_weights_only=True,\n",
    "    mode='max'\n",
    ")\n",
    "\n",
    "log_csv = CSVLogger('my_log.csv', separator=',', append=True)"
   ]
  },
  {
   "cell_type": "code",
   "execution_count": 7,
   "metadata": {},
   "outputs": [],
   "source": [
    "model = create_model()\n",
    "initial_epoch = 0"
   ]
  },
  {
   "cell_type": "code",
   "execution_count": 8,
   "metadata": {},
   "outputs": [],
   "source": [
    "callbacks_list = [checkpoint, log_csv]"
   ]
  },
  {
   "cell_type": "code",
   "execution_count": 13,
   "metadata": {},
   "outputs": [
    {
     "name": "stdout",
     "output_type": "stream",
     "text": [
      "10\n",
      "Epoch 11/20\n",
      "52/52 [==============================] - 38s 33ms/step - loss: 0.7357 - accuracy: 0.6582 - val_loss: 0.7926 - val_accuracy: 0.5787\n",
      "\n",
      "Epoch 00011: val_accuracy improved from -inf to 0.57874, saving model to ./checkpoints\\cp-epoch-11.ckpt\n",
      "Epoch 12/20\n",
      "52/52 [==============================] - 1s 10ms/step - loss: 0.6764 - accuracy: 0.6305 - val_loss: 0.8005 - val_accuracy: 0.5945\n",
      "\n",
      "Epoch 00012: val_accuracy improved from 0.57874 to 0.59449, saving model to ./checkpoints\\cp-epoch-12.ckpt\n",
      "Epoch 13/20\n",
      "52/52 [==============================] - 1s 11ms/step - loss: 0.6710 - accuracy: 0.6490 - val_loss: 0.7867 - val_accuracy: 0.6339\n",
      "\n",
      "Epoch 00013: val_accuracy improved from 0.59449 to 0.63386, saving model to ./checkpoints\\cp-epoch-13.ckpt\n",
      "Epoch 14/20\n",
      "52/52 [==============================] - 1s 14ms/step - loss: 0.6447 - accuracy: 0.6794 - val_loss: 0.7824 - val_accuracy: 0.5630\n",
      "\n",
      "Epoch 00014: val_accuracy did not improve from 0.63386\n",
      "Epoch 15/20\n",
      "52/52 [==============================] - 1s 10ms/step - loss: 0.6571 - accuracy: 0.7006 - val_loss: 0.7841 - val_accuracy: 0.6181\n",
      "\n",
      "Epoch 00015: val_accuracy did not improve from 0.63386\n",
      "Epoch 16/20\n",
      "52/52 [==============================] - 1s 11ms/step - loss: 0.6476 - accuracy: 0.6585 - val_loss: 0.7853 - val_accuracy: 0.6024\n",
      "\n",
      "Epoch 00016: val_accuracy did not improve from 0.63386\n",
      "Epoch 17/20\n",
      "52/52 [==============================] - 0s 10ms/step - loss: 0.6459 - accuracy: 0.6576 - val_loss: 0.7649 - val_accuracy: 0.5984\n",
      "\n",
      "Epoch 00017: val_accuracy did not improve from 0.63386\n",
      "Epoch 18/20\n",
      "52/52 [==============================] - 1s 12ms/step - loss: 0.6065 - accuracy: 0.6811 - val_loss: 0.7614 - val_accuracy: 0.6181\n",
      "\n",
      "Epoch 00018: val_accuracy did not improve from 0.63386\n",
      "Epoch 19/20\n",
      "52/52 [==============================] - 1s 11ms/step - loss: 0.6200 - accuracy: 0.6761 - val_loss: 0.7590 - val_accuracy: 0.6457\n",
      "\n",
      "Epoch 00019: val_accuracy improved from 0.63386 to 0.64567, saving model to ./checkpoints\\cp-epoch-19.ckpt\n",
      "Epoch 20/20\n",
      "52/52 [==============================] - 1s 10ms/step - loss: 0.6378 - accuracy: 0.6355 - val_loss: 0.7407 - val_accuracy: 0.6496\n",
      "\n",
      "Epoch 00020: val_accuracy improved from 0.64567 to 0.64961, saving model to ./checkpoints\\cp-epoch-20.ckpt\n"
     ]
    }
   ],
   "source": [
    "ckpt_path = tf.train.latest_checkpoint('checkpoints/')\n",
    "\n",
    "if ckpt_path is not None:\n",
    "    model.load_weights(ckpt_path)\n",
    "    initial_epoch = int(ckpt_path.split('-')[-1].split('.')[0])\n",
    "    print(initial_epoch)\n",
    "    \n",
    "epochs += initial_epoch\n",
    "# Fit the model\n",
    "hist = model.fit(X, Y, validation_split=0.33, epochs=epochs, batch_size=10, callbacks=callbacks_list, verbose=1, initial_epoch=initial_epoch)"
   ]
  },
  {
   "cell_type": "code",
   "execution_count": 10,
   "metadata": {},
   "outputs": [
    {
     "name": "stdout",
     "output_type": "stream",
     "text": [
      "checkpoints/cp-epoch-10.ckpt\n",
      "checkpoints/cp-epoch-10.ckpt\n",
      "<tensorflow.python.util._pywrap_checkpoint_reader.CheckpointReader object at 0x000002125C3D6F30>\n"
     ]
    }
   ],
   "source": [
    "import tensorflow as tf\n",
    "ckpt_path = tf.train.latest_checkpoint('checkpoints/')\n",
    "print(ckpt_path)\n",
    "print(ckpt_path)\n",
    "print(tf.train.load_checkpoint(ckpt_path))"
   ]
  },
  {
   "cell_type": "code",
   "execution_count": 11,
   "metadata": {},
   "outputs": [],
   "source": [
    "\n",
    "def plot_graphs(history, metric):\n",
    "  plt.plot(history.history[metric])\n",
    "  plt.plot(history.history['val_'+metric], '')\n",
    "  plt.xlabel(\"Epochs\")\n",
    "  plt.ylabel(metric)\n",
    "  plt.legend([metric, 'val_'+metric])"
   ]
  },
  {
   "cell_type": "code",
   "execution_count": 12,
   "metadata": {},
   "outputs": [
    {
     "ename": "KeyError",
     "evalue": "'accuracy'",
     "output_type": "error",
     "traceback": [
      "\u001b[1;31m---------------------------------------------------------------------------\u001b[0m",
      "\u001b[1;31mKeyError\u001b[0m                                  Traceback (most recent call last)",
      "\u001b[1;32m<ipython-input-12-6a5dbf4db9d8>\u001b[0m in \u001b[0;36m<module>\u001b[1;34m\u001b[0m\n\u001b[1;32m----> 1\u001b[1;33m \u001b[0mplot_graphs\u001b[0m\u001b[1;33m(\u001b[0m\u001b[0mhist\u001b[0m\u001b[1;33m,\u001b[0m \u001b[1;34m'accuracy'\u001b[0m\u001b[1;33m)\u001b[0m\u001b[1;33m\u001b[0m\u001b[1;33m\u001b[0m\u001b[0m\n\u001b[0m",
      "\u001b[1;32m<ipython-input-11-32b013e3d2e0>\u001b[0m in \u001b[0;36mplot_graphs\u001b[1;34m(history, metric)\u001b[0m\n\u001b[0;32m      1\u001b[0m \u001b[1;32mdef\u001b[0m \u001b[0mplot_graphs\u001b[0m\u001b[1;33m(\u001b[0m\u001b[0mhistory\u001b[0m\u001b[1;33m,\u001b[0m \u001b[0mmetric\u001b[0m\u001b[1;33m)\u001b[0m\u001b[1;33m:\u001b[0m\u001b[1;33m\u001b[0m\u001b[1;33m\u001b[0m\u001b[0m\n\u001b[1;32m----> 2\u001b[1;33m   \u001b[0mplt\u001b[0m\u001b[1;33m.\u001b[0m\u001b[0mplot\u001b[0m\u001b[1;33m(\u001b[0m\u001b[0mhistory\u001b[0m\u001b[1;33m.\u001b[0m\u001b[0mhistory\u001b[0m\u001b[1;33m[\u001b[0m\u001b[0mmetric\u001b[0m\u001b[1;33m]\u001b[0m\u001b[1;33m)\u001b[0m\u001b[1;33m\u001b[0m\u001b[1;33m\u001b[0m\u001b[0m\n\u001b[0m\u001b[0;32m      3\u001b[0m   \u001b[0mplt\u001b[0m\u001b[1;33m.\u001b[0m\u001b[0mplot\u001b[0m\u001b[1;33m(\u001b[0m\u001b[0mhistory\u001b[0m\u001b[1;33m.\u001b[0m\u001b[0mhistory\u001b[0m\u001b[1;33m[\u001b[0m\u001b[1;34m'val_'\u001b[0m\u001b[1;33m+\u001b[0m\u001b[0mmetric\u001b[0m\u001b[1;33m]\u001b[0m\u001b[1;33m,\u001b[0m \u001b[1;34m''\u001b[0m\u001b[1;33m)\u001b[0m\u001b[1;33m\u001b[0m\u001b[1;33m\u001b[0m\u001b[0m\n\u001b[0;32m      4\u001b[0m   \u001b[0mplt\u001b[0m\u001b[1;33m.\u001b[0m\u001b[0mxlabel\u001b[0m\u001b[1;33m(\u001b[0m\u001b[1;34m\"Epochs\"\u001b[0m\u001b[1;33m)\u001b[0m\u001b[1;33m\u001b[0m\u001b[1;33m\u001b[0m\u001b[0m\n\u001b[0;32m      5\u001b[0m   \u001b[0mplt\u001b[0m\u001b[1;33m.\u001b[0m\u001b[0mylabel\u001b[0m\u001b[1;33m(\u001b[0m\u001b[0mmetric\u001b[0m\u001b[1;33m)\u001b[0m\u001b[1;33m\u001b[0m\u001b[1;33m\u001b[0m\u001b[0m\n",
      "\u001b[1;31mKeyError\u001b[0m: 'accuracy'"
     ]
    }
   ],
   "source": [
    "plot_graphs(hist, 'accuracy')"
   ]
  },
  {
   "cell_type": "code",
   "execution_count": null,
   "metadata": {},
   "outputs": [],
   "source": []
  }
 ],
 "metadata": {
  "kernelspec": {
   "display_name": "Python 3",
   "language": "python",
   "name": "python3"
  },
  "language_info": {
   "codemirror_mode": {
    "name": "ipython",
    "version": 3
   },
   "file_extension": ".py",
   "mimetype": "text/x-python",
   "name": "python",
   "nbconvert_exporter": "python",
   "pygments_lexer": "ipython3",
   "version": "3.8.5"
  }
 },
 "nbformat": 4,
 "nbformat_minor": 4
}
